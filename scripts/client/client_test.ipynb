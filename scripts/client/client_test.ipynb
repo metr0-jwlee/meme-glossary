{
 "cells": [
  {
   "cell_type": "code",
   "execution_count": null,
   "metadata": {
    "scrolled": false
   },
   "outputs": [],
   "source": [
    "import zmq\n",
    "import random\n",
    "import sys\n",
    "import time\n",
    "from io import StringIO\n",
    "import PIL.Image\n",
    "import base64\n",
    "from IPython.display import display, HTML\n",
    "import json\n",
    "import re\n",
    "\n",
    "'''\n",
    "from IPython.display import Image\n",
    "from IPython.core.display import Image, display\n",
    "'''\n",
    "\n",
    "port = \"5555\"\n",
    "context = zmq.Context()\n",
    "socket = context.socket(zmq.REQ)\n",
    "socket.connect(\"tcp://localhost:%s\" % port)\n",
    "\n",
    "print('before while')\n",
    "while True:\n",
    "    print(\"come into while client\")\n",
    "    q1 = '기안'\n",
    "    q2 = '수영'\n",
    "    q3 = '뭐'\n",
    "    q_list = []\n",
    "    q_list.append(q1)\n",
    "    q_list.append(q2)\n",
    "    q_list.append(q3)\n",
    "    jj = json.dumps(q_list)\n",
    "    \n",
    "    socket.send_string(jj)\n",
    "    print('send done')\n",
    "#    data = socket.recv()\n",
    "    decoded = socket.recv_string()\n",
    "    \n",
    "#    print(data)\n",
    "#    decoded = data.decode(\"utf-8\")\n",
    "    decoded = json.loads(decoded)\n",
    "    print('json load done')\n",
    "    \n",
    "#    print(decoded)\n",
    "    #print(decoded)\n",
    "    for y in decoded:\n",
    "#        y = json.loads(y)\n",
    "        if y['find_success'] == False:\n",
    "            print('====dont know that word TT')\n",
    "            continue\n",
    "\n",
    "        for text in y['memes']:\n",
    "            decoded = y['memes'][text].replace(\"'\", '\"')\n",
    "            decoded = re.search(r'\\\"(.*)\\\"', decoded).group(1)\n",
    "            display(HTML('''<img src=\"data:image/png;base64,''' + decoded + '''\">'''))    \n",
    "            print(text)\n",
    "        print(\"--- done ---\")\n",
    "        \n",
    "    # assume data contains your decoded image\n",
    "    '''\n",
    "    imgdata = base64.b64decode(data)\n",
    "    file_like = StringIO.StringIO(data)\n",
    "    img = PIL.Image.open(file_like)\n",
    "    img.show()\n",
    "    '''\n",
    "    #    display(Image(PATH, width=300, height=300))\n",
    "\n",
    "    time.sleep(1)\n",
    "    break"
   ]
  },
  {
   "cell_type": "code",
   "execution_count": null,
   "metadata": {},
   "outputs": [],
   "source": [
    "import client"
   ]
  },
  {
   "cell_type": "code",
   "execution_count": null,
   "metadata": {},
   "outputs": [],
   "source": [
    "aa = client.MgClient()"
   ]
  },
  {
   "cell_type": "code",
   "execution_count": null,
   "metadata": {
    "scrolled": false
   },
   "outputs": [],
   "source": [
    "aa.show_result(aa.dank(['방해'], 5, 0.15))"
   ]
  },
  {
   "cell_type": "code",
   "execution_count": null,
   "metadata": {},
   "outputs": [],
   "source": []
  }
 ],
 "metadata": {
  "kernelspec": {
   "display_name": "Python 3",
   "language": "python",
   "name": "python3"
  },
  "language_info": {
   "codemirror_mode": {
    "name": "ipython",
    "version": 3
   },
   "file_extension": ".py",
   "mimetype": "text/x-python",
   "name": "python",
   "nbconvert_exporter": "python",
   "pygments_lexer": "ipython3",
   "version": "3.6.7"
  }
 },
 "nbformat": 4,
 "nbformat_minor": 2
}
